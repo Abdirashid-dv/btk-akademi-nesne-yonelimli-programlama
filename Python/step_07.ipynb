{
 "cells": [
  {
   "cell_type": "code",
   "execution_count": 133,
   "metadata": {},
   "outputs": [],
   "source": [
    "class Product(object):\n",
    "    def __init__(self,name:str=\"Default\", price:float=0, quantity:int=1) -> None:\n",
    "        self.__name = name\n",
    "        self.__price = price\n",
    "        self.__quantity = quantity\n",
    "    \n",
    "    @property\n",
    "    def name(self) -> str:\n",
    "        return self.__name\n",
    "    \n",
    "    @name.setter\n",
    "    def name(self, value:str) -> None:\n",
    "        if(len(value)> 3 or len(value) <=8):\n",
    "            self.__name = value\n",
    "        else:\n",
    "            raise ValueError(f\"Name must be between 3 and 8\")\n",
    "        \n",
    "        \n",
    "    @property\n",
    "    def price(self)->float:\n",
    "        \n",
    "        return self.__price\n",
    "    \n",
    "    @price.setter\n",
    "    def price(self, value) -> None:\n",
    "        if(value >0):\n",
    "            self.__price = value\n",
    "        else:\n",
    "            raise Exception(\"Price must be greater than 0\")\n",
    "        \n",
    "    @property\n",
    "    def quantity(self) -> int:\n",
    "        return self.__quantity\n",
    "    \n",
    "    @quantity.setter\n",
    "    def quantity(self, value)->None:\n",
    "        if(value >= 1):\n",
    "            self.__quantity = value\n",
    "        else:\n",
    "            raise Exception(\"The minimum quantity is 1\")\n",
    "        \n",
    "    def get_total_price(self) -> float:\n",
    "        return self.__price * self.__quantity\n",
    "    \n",
    "    def __repr__(self):\n",
    "        return f\"{self.__name} - {self.__price} - {self.__quantity}\"\n",
    "    \n",
    "    \n",
    "class ProductHelper():\n",
    "    \n",
    "    @staticmethod\n",
    "    def create_item_from_text(path: str) -> list:\n",
    "        '''Create a list of Product objects from a text file'''\n",
    "        productList = []\n",
    "        \n",
    "        with open(path, \"r\") as file:\n",
    "            \n",
    "            for line in file:\n",
    "                attributes = line.split(\",\")\n",
    "                name = attributes[1].lstrip()\n",
    "                price = float(attributes[2])\n",
    "                quantity = int(attributes[3])\n",
    "                product = Product(name, price, quantity)\n",
    "                productList.append(product)\n",
    "                \n",
    "        return productList\n",
    "    \n",
    "    @staticmethod\n",
    "    def get_total_balance(products) -> float:\n",
    "        total = 0\n",
    "        for product in products:\n",
    "            total += product.get_total_price()\n",
    "        total += total * 0.2 #%20 KDV\n",
    "        return total"
   ]
  },
  {
   "cell_type": "code",
   "execution_count": 134,
   "metadata": {},
   "outputs": [
    {
     "name": "stdout",
     "output_type": "stream",
     "text": [
      "HP Laptop - 799.99 - 2\n"
     ]
    }
   ],
   "source": [
    "item1 = Product(\"Laptop\",799.99,2)\n",
    "item1.name = \"HP Laptop\"\n",
    "print(item1)"
   ]
  },
  {
   "cell_type": "code",
   "execution_count": 135,
   "metadata": {},
   "outputs": [
    {
     "name": "stdout",
     "output_type": "stream",
     "text": [
      "Computer - 1999.99 - 1\n"
     ]
    }
   ],
   "source": [
    "item2 = Product(\"Computer\")\n",
    "item2.price = 1999.99\n",
    "item2.quantity = 1\n",
    "print(item2)"
   ]
  },
  {
   "cell_type": "code",
   "execution_count": 136,
   "metadata": {},
   "outputs": [
    {
     "name": "stdout",
     "output_type": "stream",
     "text": [
      "Keyboard - 25.99 - 1\n"
     ]
    }
   ],
   "source": [
    "item3 = Product(\"Keyboard\",25.99)\n",
    "print(item3)"
   ]
  },
  {
   "cell_type": "code",
   "execution_count": 137,
   "metadata": {},
   "outputs": [
    {
     "name": "stdout",
     "output_type": "stream",
     "text": [
      "Total Balance (including 20% KDV): 52920.0\n"
     ]
    }
   ],
   "source": [
    "product_list = ProductHelper.create_item_from_text(path=\"Products.txt\")\n",
    "item1 = product_list[1]\n",
    "total_balance = ProductHelper.get_total_balance(product_list)\n",
    "print(f\"Total Balance (including 20% KDV): {total_balance}\")"
   ]
  }
 ],
 "metadata": {
  "kernelspec": {
   "display_name": "Python 3",
   "language": "python",
   "name": "python3"
  },
  "language_info": {
   "codemirror_mode": {
    "name": "ipython",
    "version": 3
   },
   "file_extension": ".py",
   "mimetype": "text/x-python",
   "name": "python",
   "nbconvert_exporter": "python",
   "pygments_lexer": "ipython3",
   "version": "3.10.7"
  },
  "orig_nbformat": 4
 },
 "nbformat": 4,
 "nbformat_minor": 2
}
