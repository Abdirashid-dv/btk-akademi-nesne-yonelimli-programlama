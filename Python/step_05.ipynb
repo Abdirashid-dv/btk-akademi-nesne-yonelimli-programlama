{
 "cells": [
  {
   "cell_type": "code",
   "execution_count": 1,
   "metadata": {},
   "outputs": [],
   "source": [
    "class Product:\n",
    "    def __init__(self,name, price, quantity):\n",
    "        print(f\"An instance with name: {name} has been derived from Product class.\")\n",
    "        \n",
    "        self.__name = name\n",
    "        self.__price = price\n",
    "        self.__quantity = quantity\n",
    "    \n",
    "    @property\n",
    "    def name(self):\n",
    "        return self.__name\n",
    "    \n",
    "    @name.setter\n",
    "    def name(self, value):\n",
    "        self.__name = value  \n",
    "        \n",
    "    @property\n",
    "    def price(self):\n",
    "        return self.__price\n",
    "    \n",
    "    @price.setter\n",
    "    def price(self, value):\n",
    "        self.__price = value\n",
    "        \n",
    "    @property\n",
    "    def quantity(self):\n",
    "        return self.__quantity\n",
    "    \n",
    "    @quantity.setter\n",
    "    def quantity(self, value):\n",
    "        self.__quantity = value"
   ]
  },
  {
   "cell_type": "code",
   "execution_count": 2,
   "metadata": {},
   "outputs": [
    {
     "name": "stdout",
     "output_type": "stream",
     "text": [
      "An instance with name: Laptop has been derived from Product class.\n",
      "HP Laptop\n",
      "799.99\n",
      "2\n"
     ]
    }
   ],
   "source": [
    "item1 = Product(\"Laptop\",799.99,2)\n",
    "item1.name = \"HP Laptop\"\n",
    "print(item1.name)\n",
    "print(item1.price)\n",
    "print(item1.quantity)"
   ]
  },
  {
   "cell_type": "code",
   "execution_count": 3,
   "metadata": {},
   "outputs": [
    {
     "name": "stdout",
     "output_type": "stream",
     "text": [
      "Unexpected exception formatting exception. Falling back to standard exception\n"
     ]
    },
    {
     "name": "stderr",
     "output_type": "stream",
     "text": [
      "Traceback (most recent call last):\n",
      "  File \"C:\\Users\\Abdirashid\\AppData\\Roaming\\Python\\Python310\\site-packages\\IPython\\core\\interactiveshell.py\", line 3378, in run_code\n",
      "    exec(code_obj, self.user_global_ns, self.user_ns)\n",
      "  File \"C:\\Users\\Abdirashid\\AppData\\Local\\Temp\\ipykernel_18392\\585802404.py\", line 1, in <module>\n",
      "    item2 = Product()\n",
      "TypeError: Product.__init__() missing 3 required positional arguments: 'name', 'price', and 'quantity'\n",
      "\n",
      "During handling of the above exception, another exception occurred:\n",
      "\n",
      "Traceback (most recent call last):\n",
      "  File \"C:\\Users\\Abdirashid\\AppData\\Roaming\\Python\\Python310\\site-packages\\IPython\\core\\interactiveshell.py\", line 1997, in showtraceback\n",
      "    stb = self.InteractiveTB.structured_traceback(\n",
      "  File \"C:\\Users\\Abdirashid\\AppData\\Roaming\\Python\\Python310\\site-packages\\IPython\\core\\ultratb.py\", line 1112, in structured_traceback\n",
      "    return FormattedTB.structured_traceback(\n",
      "  File \"C:\\Users\\Abdirashid\\AppData\\Roaming\\Python\\Python310\\site-packages\\IPython\\core\\ultratb.py\", line 1006, in structured_traceback\n",
      "    return VerboseTB.structured_traceback(\n",
      "  File \"C:\\Users\\Abdirashid\\AppData\\Roaming\\Python\\Python310\\site-packages\\IPython\\core\\ultratb.py\", line 859, in structured_traceback\n",
      "    formatted_exception = self.format_exception_as_a_whole(etype, evalue, etb, number_of_lines_of_context,\n",
      "  File \"C:\\Users\\Abdirashid\\AppData\\Roaming\\Python\\Python310\\site-packages\\IPython\\core\\ultratb.py\", line 793, in format_exception_as_a_whole\n",
      "    self.get_records(etb, number_of_lines_of_context, tb_offset) if etb else []\n",
      "  File \"C:\\Users\\Abdirashid\\AppData\\Roaming\\Python\\Python310\\site-packages\\IPython\\core\\ultratb.py\", line 848, in get_records\n",
      "    return list(stack_data.FrameInfo.stack_data(etb, options=options))[tb_offset:]\n",
      "  File \"C:\\Users\\Abdirashid\\AppData\\Roaming\\Python\\Python310\\site-packages\\stack_data\\core.py\", line 597, in stack_data\n",
      "    yield from collapse_repeated(\n",
      "  File \"C:\\Users\\Abdirashid\\AppData\\Roaming\\Python\\Python310\\site-packages\\stack_data\\utils.py\", line 84, in collapse_repeated\n",
      "    yield from map(mapper, original_group)\n",
      "  File \"C:\\Users\\Abdirashid\\AppData\\Roaming\\Python\\Python310\\site-packages\\stack_data\\core.py\", line 587, in mapper\n",
      "    return cls(f, options)\n",
      "  File \"C:\\Users\\Abdirashid\\AppData\\Roaming\\Python\\Python310\\site-packages\\stack_data\\core.py\", line 551, in __init__\n",
      "    self.executing = Source.executing(frame_or_tb)\n",
      "  File \"C:\\Users\\Abdirashid\\AppData\\Roaming\\Python\\Python310\\site-packages\\executing\\executing.py\", line 328, in executing\n",
      "    source = cls.for_frame(frame)\n",
      "  File \"C:\\Users\\Abdirashid\\AppData\\Roaming\\Python\\Python310\\site-packages\\executing\\executing.py\", line 250, in for_frame\n",
      "    return cls.for_filename(frame.f_code.co_filename, frame.f_globals or {}, use_cache)\n",
      "  File \"C:\\Users\\Abdirashid\\AppData\\Roaming\\Python\\Python310\\site-packages\\executing\\executing.py\", line 278, in for_filename\n",
      "    return cls._for_filename_and_lines(filename, lines)\n",
      "  File \"C:\\Users\\Abdirashid\\AppData\\Roaming\\Python\\Python310\\site-packages\\executing\\executing.py\", line 288, in _for_filename_and_lines\n",
      "    result = source_cache[(filename, lines)] = cls(filename, lines)\n",
      "  File \"C:\\Users\\Abdirashid\\AppData\\Roaming\\Python\\Python310\\site-packages\\stack_data\\core.py\", line 97, in __init__\n",
      "    self.asttokens()\n",
      "  File \"C:\\Users\\Abdirashid\\AppData\\Roaming\\Python\\Python310\\site-packages\\executing\\executing.py\", line 392, in asttokens\n",
      "    return ASTTokens(\n",
      "  File \"C:\\Users\\Abdirashid\\AppData\\Roaming\\Python\\Python310\\site-packages\\asttokens\\asttokens.py\", line 61, in __init__\n",
      "    source_text = six.ensure_text(source_text)\n",
      "AttributeError: module 'six' has no attribute 'ensure_text'\n"
     ]
    }
   ],
   "source": [
    "item2 = Product()\n",
    "# dinamik özellik tanımı \n",
    "item2.__name = \"Computer\"\n",
    "item2.__price = 1999.99\n",
    "item2.__quantity = 3"
   ]
  }
 ],
 "metadata": {
  "kernelspec": {
   "display_name": "Python 3",
   "language": "python",
   "name": "python3"
  },
  "language_info": {
   "codemirror_mode": {
    "name": "ipython",
    "version": 3
   },
   "file_extension": ".py",
   "mimetype": "text/x-python",
   "name": "python",
   "nbconvert_exporter": "python",
   "pygments_lexer": "ipython3",
   "version": "3.10.7"
  },
  "orig_nbformat": 4
 },
 "nbformat": 4,
 "nbformat_minor": 2
}
